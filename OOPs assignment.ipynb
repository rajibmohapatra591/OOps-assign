{
 "cells": [
  {
   "cell_type": "code",
   "execution_count": null,
   "id": "3ffa08c4-a5d4-4c8d-a1c9-73e2351c933c",
   "metadata": {},
   "outputs": [],
   "source": [
    "# q.1. Explain Class and Object with respect to Object-Oriented Programming. Give a suitable example."
   ]
  },
  {
   "cell_type": "code",
   "execution_count": null,
   "id": "dfd531a7-b2e9-4b11-8288-910460275bfe",
   "metadata": {},
   "outputs": [],
   "source": [
    "# In Object-Oriented Programming (OOP), a class is a blueprint or template that defines the attributes and behaviors (methods) of objects \n",
    "# that can be created from it.\n",
    "# An object is an instance of a class that has its own unique values for the attributes defined in the class and can perform the methods defined in the class.\n",
    "\n",
    "#For example, consider a class called \"Car\" that has the following attributes: \"make\", \"model\", \"year\", \"color\", \"price\".\n",
    "#It also has methods such as \"start_engine\", \"accelerate\", \"brake\", and \"turn\".\n",
    "\n",
    "#To create an object of the \"Car\" class, we can instantiate it by assigning values to the attributes like this:"
   ]
  },
  {
   "cell_type": "code",
   "execution_count": null,
   "id": "5e002fb0-3310-458e-86d2-8d72cf80c642",
   "metadata": {},
   "outputs": [],
   "source": [
    "car1 = Car(\"Toyota\", \"Corolla\", 2022, \"Red\", 25000.00)"
   ]
  },
  {
   "cell_type": "code",
   "execution_count": null,
   "id": "5fb0cb2f-17d9-442b-b92a-edb40966cf93",
   "metadata": {},
   "outputs": [],
   "source": [
    "# q.2.Name the four pillars of OOPs."
   ]
  },
  {
   "cell_type": "code",
   "execution_count": null,
   "id": "66f7f596-941d-460a-8b4f-2fe16463400f",
   "metadata": {},
   "outputs": [],
   "source": [
    "# The four pillars of OOPs are\n",
    "\n",
    "1.Abstraction.\n",
    "2.Encapsulation.\n",
    "3.Inheritance.\n",
    "4.Polymorphism."
   ]
  },
  {
   "cell_type": "code",
   "execution_count": null,
   "id": "b380dca6-60b5-43a7-8c9f-ecdb260e70e1",
   "metadata": {},
   "outputs": [],
   "source": [
    "# Q4. Why self is used in OOPs?"
   ]
  },
  {
   "cell_type": "code",
   "execution_count": null,
   "id": "78c2df5d-4ac6-4961-89e0-3a6c18ee28ef",
   "metadata": {},
   "outputs": [],
   "source": [
    "# In Object-Oriented Programming (OOP), self is a reference variable\n",
    "# that refers to the current instance of a class.\n",
    "# It is used to access the attributes and methods of an object within the class definition."
   ]
  },
  {
   "cell_type": "code",
   "execution_count": null,
   "id": "606df107-4034-4465-9c16-bf531405dc84",
   "metadata": {},
   "outputs": [],
   "source": [
    "# Q5. What is inheritance? Give an example for each type of inheritance."
   ]
  },
  {
   "cell_type": "code",
   "execution_count": null,
   "id": "8e81c264-fa8a-4026-8aa0-5598d7731b01",
   "metadata": {},
   "outputs": [],
   "source": [
    "# Inheritance is a mechanism in which one class acquires the property of another class.\n",
    "# For example, a child inherits the traits of his/her parents. With inheritance, we can reuse the fields and methods of the existing class.\n",
    "# Hence, inheritance facilitates Reusability and is an important concept of OOPs."
   ]
  },
  {
   "cell_type": "code",
   "execution_count": null,
   "id": "80b0ea03-d8ac-4b47-b926-0798d946a24c",
   "metadata": {},
   "outputs": [],
   "source": [
    "class pwskills1 :\n",
    "   \n",
    "    def __init__(self, phone_number, email_id,student_id):\n",
    "        self.phone_number = phone_number\n",
    "        self.email_id = email_id\n",
    "        self.student_id = student_id\n",
    "        \n",
    "    def return_student_details(self) :\n",
    "        return self.phone_number,self.email_id,self.student_id"
   ]
  }
 ],
 "metadata": {
  "kernelspec": {
   "display_name": "Python 3 (ipykernel)",
   "language": "python",
   "name": "python3"
  },
  "language_info": {
   "codemirror_mode": {
    "name": "ipython",
    "version": 3
   },
   "file_extension": ".py",
   "mimetype": "text/x-python",
   "name": "python",
   "nbconvert_exporter": "python",
   "pygments_lexer": "ipython3",
   "version": "3.10.8"
  }
 },
 "nbformat": 4,
 "nbformat_minor": 5
}
